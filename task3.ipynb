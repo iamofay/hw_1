{
 "cells": [
  {
   "cell_type": "code",
   "execution_count": 1,
   "id": "d646d3b4-db13-4097-9f84-acd795bab6f8",
   "metadata": {},
   "outputs": [],
   "source": [
    "def amulet_area(a, b, c):\n",
    "    # your code here\n",
    "    p = int((a + b + c)/2)\n",
    "    S = int((p*(p - a)*(p - b)*(p - c)) ** (0.5))\n",
    "    return S\n",
    "\n",
    "assert amulet_area(3, 4, 5) == 6"
   ]
  }
 ],
 "metadata": {
  "kernelspec": {
   "display_name": "Python 3 (ipykernel)",
   "language": "python",
   "name": "python3"
  },
  "language_info": {
   "codemirror_mode": {
    "name": "ipython",
    "version": 3
   },
   "file_extension": ".py",
   "mimetype": "text/x-python",
   "name": "python",
   "nbconvert_exporter": "python",
   "pygments_lexer": "ipython3",
   "version": "3.11.7"
  }
 },
 "nbformat": 4,
 "nbformat_minor": 5
}
