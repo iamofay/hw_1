{
 "cells": [
  {
   "cell_type": "code",
   "execution_count": null,
   "id": "c64823d4-53a7-4ea8-9f8a-ef9992f800ff",
   "metadata": {},
   "outputs": [],
   "source": [
    "# 1\n",
    "import numpy as np\n",
    "\n",
    "my_array = np.random.rand(100)\n",
    "my_array[my_array.argmax()] = 1\n",
    "my_array[my_array.argmin()] = 0\n",
    "print(np.max(my_array), np.min(my_array),\"\\n\")\n",
    "print(my_array,\"\\n\")\n",
    "\n",
    "# 2\n",
    "my_array = np.random.randint(0, 50, (5, 6))\n",
    "x,y = np.where(my_array == my_array.max())\n",
    "selected_column = my_array[x]\n",
    "print('Shape: ', my_array.shape)\n",
    "print('Array')\n",
    "print(my_array,\"\\n\")\n",
    "print(selected_column,\"\\n\")\n",
    "\n",
    "# 3\n",
    "def get_unique_rows(X):\n",
    "    X_unique = np.unique(X, axis=0)\n",
    "    print(X_unique)\n",
    "    return X_unique\n",
    "X = np.random.randint(4, 6, size=(10,3))\n",
    "print(X,\"\\n\")\n",
    "get_unique_rows(X)"
   ]
  }
 ],
 "metadata": {
  "kernelspec": {
   "display_name": "Python 3 (ipykernel)",
   "language": "python",
   "name": "python3"
  },
  "language_info": {
   "codemirror_mode": {
    "name": "ipython",
    "version": 3
   },
   "file_extension": ".py",
   "mimetype": "text/x-python",
   "name": "python",
   "nbconvert_exporter": "python",
   "pygments_lexer": "ipython3",
   "version": "3.11.7"
  }
 },
 "nbformat": 4,
 "nbformat_minor": 5
}
