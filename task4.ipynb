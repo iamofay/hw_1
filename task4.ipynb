{
 "cells": [
  {
   "cell_type": "code",
   "execution_count": null,
   "id": "2634426c-86f5-47ef-9107-8b08ca2725ca",
   "metadata": {},
   "outputs": [],
   "source": [
    "import numpy as np\n",
    "\n",
    "\n",
    "def cal_euclidean(a, b):\n",
    "    ## Your code here\n",
    "    distance = np.linalg.norm(a - b, 2)\n",
    "    return distance\n",
    "\n",
    "\n",
    "def cal_manhattan(a, b):\n",
    "    ## Your code here\n",
    "    distance = np.linalg.norm(a - b, 1)\n",
    "    d1 = abs(a - b).sum()\n",
    "    print(d1)\n",
    "\n",
    "    return distance\n",
    "\n",
    "\n",
    "def cal_cosine(a, b):\n",
    "    ## Your code here\n",
    "    distance = 1 - np.dot(a, b) / (np.linalg.norm(a, 2) * np.linalg.norm(b, 2))\n",
    "    return distance\n",
    "\n",
    "\n",
    "a = np.random.randint(-10, 10, size=10)\n",
    "b = np.random.randint(-10, 10, size=10)\n",
    "print(cal_euclidean(a, b))\n",
    "print(cal_manhattan(a, b))\n",
    "print(cal_cosine(a, b))\n"
   ]
  }
 ],
 "metadata": {
  "kernelspec": {
   "display_name": "Python 3 (ipykernel)",
   "language": "python",
   "name": "python3"
  },
  "language_info": {
   "codemirror_mode": {
    "name": "ipython",
    "version": 3
   },
   "file_extension": ".py",
   "mimetype": "text/x-python",
   "name": "python",
   "nbconvert_exporter": "python",
   "pygments_lexer": "ipython3",
   "version": "3.11.7"
  }
 },
 "nbformat": 4,
 "nbformat_minor": 5
}
